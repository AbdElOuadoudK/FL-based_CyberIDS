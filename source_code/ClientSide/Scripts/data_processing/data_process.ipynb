{
 "cells": [
  {
   "cell_type": "markdown",
   "metadata": {},
   "source": [
    "## data cleaning"
   ]
  },
  {
   "cell_type": "code",
   "execution_count": 1,
   "metadata": {},
   "outputs": [],
   "source": [
    "import pandas\n",
    "import numpy\n",
    "import os\n",
    "import warnings\n",
    "import matplotlib.pyplot as mpl\n",
    "from sklearn.preprocessing import OneHotEncoder, minmax_scale\n",
    "from sklearn.model_selection import train_test_split\n",
    "warnings.simplefilter(action='ignore', category=Warning)\n"
   ]
  },
  {
   "cell_type": "code",
   "execution_count": 2,
   "metadata": {},
   "outputs": [],
   "source": [
    "path=\"C:/Users/windows 10/Documents/FL/source_code/ClientSide/Data/\"\n",
    "listdir = os.listdir(\"C:/Users/windows 10/Documents/FL/source_code/ClientSide/Data\")\n",
    "listdir.remove('Thuesday-20-02-2018_TrafficForML_CICFlowMeter-001.csv')"
   ]
  },
  {
   "cell_type": "code",
   "execution_count": 3,
   "metadata": {},
   "outputs": [],
   "source": [
    "features = numpy.load(\"C:/Users/windows 10/Documents/FL/source_code/ClientSide/Scripts/data_processing/guidePreproc/features.npy\")\n",
    "features = list(features)"
   ]
  },
  {
   "cell_type": "code",
   "execution_count": 4,
   "metadata": {},
   "outputs": [],
   "source": [
    "# interger and float columns identification\n",
    "\n",
    "integer_cols = ['Dst Port', 'Protocol', 'Flow Duration', 'Tot Fwd Pkts', 'Tot Bwd Pkts', 'TotLen Fwd Pkts', 'Fwd Pkt Len Max',\n",
    "                'Fwd Pkt Len Min', 'Bwd Pkt Len Max', 'Fwd PSH Flags', 'Bwd PSH Flags', 'Fwd URG Flags', 'Bwd URG Flags', \n",
    "                'Fwd Header Len', 'Bwd Header Len', 'Bwd Pkt Len Min', 'Pkt Len Min', 'Pkt Len Max', 'FIN Flag Cnt', \n",
    "                'SYN Flag Cnt', 'RST Flag Cnt', 'PSH Flag Cnt', 'ACK Flag Cnt', 'URG Flag Cnt', 'CWE Flag Count', \n",
    "                'ECE Flag Cnt', 'Down/Up Ratio', 'Fwd Byts/b Avg', 'Fwd Pkts/b Avg', 'Fwd Blk Rate Avg', 'Bwd Byts/b Avg',\n",
    "                'Bwd Pkts/b Avg', 'Bwd Blk Rate Avg', 'Subflow Fwd Pkts', 'Subflow Fwd Byts', 'Subflow Bwd Pkts', \n",
    "                'Subflow Bwd Byts', 'Init Fwd Win Byts', 'Init Bwd Win Byts', 'Fwd Act Data Pkts', 'Fwd Seg Size Min',\n",
    "                'Active Max','Active Min','Idle Max','Idle Min','TotLen Bwd Pkts', 'Flow IAT Max','Flow IAT Min','Fwd IAT Tot',\n",
    "                'Fwd IAT Max','Fwd IAT Min','Bwd IAT Tot','Bwd IAT Max','Bwd IAT Min']\n",
    "\n",
    "float_cols = [\"Fwd Pkt Len Mean\",\"Fwd Pkt Len Std\",\"Bwd Pkt Len Mean\",\"Bwd Pkt Len Std\",\"Flow Byts/s\",\"Flow Pkts/s\",\n",
    "              \"Flow IAT Mean\",\"Flow IAT Std\",\"Fwd IAT Mean\",\"Fwd IAT Std\",\"Bwd IAT Mean\",\"Bwd IAT Std\",\"Fwd Pkts/s\",\n",
    "              \"Bwd Pkts/s\",\"Pkt Len Mean\",\"Pkt Len Std\",\"Pkt Len Var\",\"Pkt Size Avg\",\"Fwd Seg Size Avg\",\n",
    "              \"Bwd Seg Size Avg\",\"Active Mean\",\"Active Std\",\"Idle Mean\",\"Idle Std\"]"
   ]
  },
  {
   "cell_type": "code",
   "execution_count": 5,
   "metadata": {},
   "outputs": [],
   "source": [
    "def preprocessing(df) :\n",
    "    data=df.copy()\n",
    "    \n",
    "    for col in integer_cols:\n",
    "        data[col] = pandas.to_numeric(data[col], errors='coerce')\n",
    "    \n",
    "    data = data.dropna()\n",
    "    data[integer_cols] = data[integer_cols].astype('int64')\n",
    "    \n",
    "    for col in float_cols:\n",
    "        data[col] = pandas.to_numeric(data[col], errors='coerce')\n",
    "       \n",
    "    data = data.dropna()\n",
    "    data[float_cols] = data[float_cols].astype('float64')\n",
    "    \n",
    "    # Drop rows with invalid data\n",
    "    data.replace([numpy.inf, -numpy.inf], numpy.nan, inplace=True)\n",
    "    data = data.dropna()\n",
    "    \n",
    "    data[\"Label\"] = numpy.where(data[\"Label\"] != \"Benign\", 'INTRUSION','NORMAL')\n",
    "    data['Label'] = data.Label.astype('category')\n",
    "    data = data.drop_duplicates()\n",
    "\n",
    "    # Drop duplicate rows\n",
    "    data = data.drop_duplicates(subset=data.columns.difference(['Label', 'Timestamp']))\n",
    "    data = data.drop([\"Timestamp\"], axis=1)\n",
    "    \n",
    "    return data"
   ]
  },
  {
   "cell_type": "code",
   "execution_count": 6,
   "metadata": {},
   "outputs": [
    {
     "name": "stdout",
     "output_type": "stream",
     "text": [
      "processing file Friday-02-03-2018_TrafficForML_CICFlowMeter.csv\n",
      "processing file Friday-16-02-2018_TrafficForML_CICFlowMeter.csv\n",
      "processing file Friday-23-02-2018_TrafficForML_CICFlowMeter.csv\n",
      "processing file Thursday-01-03-2018_TrafficForML_CICFlowMeter.csv\n",
      "processing file Thursday-15-02-2018_TrafficForML_CICFlowMeter.csv\n",
      "processing file Thursday-22-02-2018_TrafficForML_CICFlowMeter.csv\n",
      "processing file Wednesday-14-02-2018_TrafficForML_CICFlowMeter.csv\n",
      "processing file Wednesday-21-02-2018_TrafficForML_CICFlowMeter.csv\n",
      "processing file Wednesday-28-02-2018_TrafficForML_CICFlowMeter.csv\n"
     ]
    }
   ],
   "source": [
    "dataset = pandas.DataFrame([],columns=features)\n",
    "\n",
    "for file in listdir :\n",
    "    print(f\"processing file {file}\")\n",
    "    data = pandas.read_csv(f\"{path}{file}\")\n",
    "    dataset = pandas.concat([dataset, preprocessing(data)])"
   ]
  },
  {
   "cell_type": "code",
   "execution_count": 7,
   "metadata": {},
   "outputs": [],
   "source": [
    "dataset = dataset.drop_duplicates()"
   ]
  },
  {
   "cell_type": "code",
   "execution_count": 8,
   "metadata": {},
   "outputs": [],
   "source": [
    "dataset[integer_cols] = dataset[integer_cols].apply(pandas.to_numeric, errors='coerce', downcast='integer')\n",
    "dataset[float_cols] = dataset[float_cols].apply(pandas.to_numeric, errors='coerce', downcast='float')"
   ]
  },
  {
   "cell_type": "code",
   "execution_count": 9,
   "metadata": {},
   "outputs": [],
   "source": [
    "dataset.columns = [col.lower().replace(\" \", \"_\") for col in dataset.columns]"
   ]
  },
  {
   "cell_type": "code",
   "execution_count": 10,
   "metadata": {},
   "outputs": [
    {
     "name": "stdout",
     "output_type": "stream",
     "text": [
      "label\n",
      "NORMAL       5075464\n",
      "INTRUSION     766423\n",
      "Name: count, dtype: int64\n",
      "shape: (5841887, 79)\n",
      "\n"
     ]
    }
   ],
   "source": [
    "print(dataset[\"label\"].value_counts())\n",
    "print(f\"shape: {dataset.shape}\\n\")"
   ]
  },
  {
   "cell_type": "code",
   "execution_count": 11,
   "metadata": {},
   "outputs": [
    {
     "name": "stdout",
     "output_type": "stream",
     "text": [
      "<class 'pandas.core.frame.DataFrame'>\n",
      "RangeIndex: 5841887 entries, 0 to 5841886\n",
      "Data columns (total 79 columns):\n",
      " #   Column             Dtype   \n",
      "---  ------             -----   \n",
      " 0   dst_port           int32   \n",
      " 1   protocol           int8    \n",
      " 2   flow_duration      int64   \n",
      " 3   tot_fwd_pkts       int32   \n",
      " 4   tot_bwd_pkts       int32   \n",
      " 5   totlen_fwd_pkts    int32   \n",
      " 6   totlen_bwd_pkts    int32   \n",
      " 7   fwd_pkt_len_max    int32   \n",
      " 8   fwd_pkt_len_min    int16   \n",
      " 9   fwd_pkt_len_mean   float64 \n",
      " 10  fwd_pkt_len_std    float64 \n",
      " 11  bwd_pkt_len_max    int32   \n",
      " 12  bwd_pkt_len_min    int16   \n",
      " 13  bwd_pkt_len_mean   float64 \n",
      " 14  bwd_pkt_len_std    float32 \n",
      " 15  flow_byts/s        float64 \n",
      " 16  flow_pkts/s        float64 \n",
      " 17  flow_iat_mean      float64 \n",
      " 18  flow_iat_std       float64 \n",
      " 19  flow_iat_max       int64   \n",
      " 20  flow_iat_min       int64   \n",
      " 21  fwd_iat_tot        int64   \n",
      " 22  fwd_iat_mean       float64 \n",
      " 23  fwd_iat_std        float64 \n",
      " 24  fwd_iat_max        int64   \n",
      " 25  fwd_iat_min        int64   \n",
      " 26  bwd_iat_tot        int32   \n",
      " 27  bwd_iat_mean       float64 \n",
      " 28  bwd_iat_std        float64 \n",
      " 29  bwd_iat_max        int32   \n",
      " 30  bwd_iat_min        int32   \n",
      " 31  fwd_psh_flags      int8    \n",
      " 32  bwd_psh_flags      int8    \n",
      " 33  fwd_urg_flags      int8    \n",
      " 34  bwd_urg_flags      int8    \n",
      " 35  fwd_header_len     int32   \n",
      " 36  bwd_header_len     int32   \n",
      " 37  fwd_pkts/s         float64 \n",
      " 38  bwd_pkts/s         float64 \n",
      " 39  pkt_len_min        int16   \n",
      " 40  pkt_len_max        int32   \n",
      " 41  pkt_len_mean       float32 \n",
      " 42  pkt_len_std        float64 \n",
      " 43  pkt_len_var        float64 \n",
      " 44  fin_flag_cnt       int8    \n",
      " 45  syn_flag_cnt       int8    \n",
      " 46  rst_flag_cnt       int8    \n",
      " 47  psh_flag_cnt       int8    \n",
      " 48  ack_flag_cnt       int8    \n",
      " 49  urg_flag_cnt       int8    \n",
      " 50  cwe_flag_count     int8    \n",
      " 51  ece_flag_cnt       int8    \n",
      " 52  down/up_ratio      int16   \n",
      " 53  pkt_size_avg       float64 \n",
      " 54  fwd_seg_size_avg   float64 \n",
      " 55  bwd_seg_size_avg   float64 \n",
      " 56  fwd_byts/b_avg     int8    \n",
      " 57  fwd_pkts/b_avg     int8    \n",
      " 58  fwd_blk_rate_avg   int8    \n",
      " 59  bwd_byts/b_avg     int8    \n",
      " 60  bwd_pkts/b_avg     int8    \n",
      " 61  bwd_blk_rate_avg   int8    \n",
      " 62  subflow_fwd_pkts   int32   \n",
      " 63  subflow_fwd_byts   int32   \n",
      " 64  subflow_bwd_pkts   int32   \n",
      " 65  subflow_bwd_byts   int32   \n",
      " 66  init_fwd_win_byts  int32   \n",
      " 67  init_bwd_win_byts  int32   \n",
      " 68  fwd_act_data_pkts  int32   \n",
      " 69  fwd_seg_size_min   int8    \n",
      " 70  active_mean        float64 \n",
      " 71  active_std         float64 \n",
      " 72  active_max         int32   \n",
      " 73  active_min         int32   \n",
      " 74  idle_mean          float64 \n",
      " 75  idle_std           float64 \n",
      " 76  idle_max           int64   \n",
      " 77  idle_min           int64   \n",
      " 78  label              category\n",
      "dtypes: category(1), float32(2), float64(22), int16(4), int32(22), int64(8), int8(20)\n",
      "memory usage: 2.0 GB\n"
     ]
    }
   ],
   "source": [
    "dataset.info()"
   ]
  },
  {
   "cell_type": "markdown",
   "metadata": {
    "jp-MarkdownHeadingCollapsed": true
   },
   "source": [
    "## feature selection"
   ]
  },
  {
   "cell_type": "code",
   "execution_count": null,
   "metadata": {},
   "outputs": [],
   "source": [
    "null_variance_cols = [\"bwd_psh_flags\",\"bwd_urg_flags\",\n",
    "                      \"fwd_byts/b_avg\",\"fwd_pkts/b_avg\",\"fwd_blk_rate_avg\",\n",
    "                      \"bwd_byts/b_avg\",\"bwd_pkts/b_avg\",\"bwd_blk_rate_avg\"]\n",
    "dataset = dataset.drop(null_variance_cols, axis=1)"
   ]
  },
  {
   "cell_type": "code",
   "execution_count": 13,
   "metadata": {},
   "outputs": [],
   "source": [
    "corr = dataset.drop([\"label\"], axis=1).corr()\n",
    "corr = corr.apply(abs)"
   ]
  },
  {
   "cell_type": "code",
   "execution_count": 14,
   "metadata": {},
   "outputs": [
    {
     "data": {
      "image/png": "[encoded data removed]",
      "text/plain": [
       "<Figure size 1000x1000 with 2 Axes>"
      ]
     },
     "metadata": {},
     "output_type": "display_data"
    }
   ],
   "source": [
    "fig, ax = mpl.subplots(figsize=(10,10))\n",
    "im = ax.imshow(corr, cmap='RdGy_r')\n",
    "cbar = ax.figure.colorbar(im, ax=ax, format='% .2f')\n",
    "mpl.show()"
   ]
  },
  {
   "cell_type": "code",
   "execution_count": 20,
   "metadata": {},
   "outputs": [
    {
     "name": "stdout",
     "output_type": "stream",
     "text": [
      "(1, 'flow_duration', 'fwd_iat_tot', 0.9999925613265617)\n",
      "(2, 'tot_fwd_pkts', 'fwd_header_len', 0.9949998350357291)\n",
      "(3, 'tot_fwd_pkts', 'subflow_fwd_pkts', 1.0)\n",
      "(4, 'tot_fwd_pkts', 'fwd_act_data_pkts', 0.999322660066321)\n",
      "(5, 'tot_bwd_pkts', 'totlen_bwd_pkts', 0.9911236966221492)\n",
      "(6, 'tot_bwd_pkts', 'bwd_header_len', 0.9960393211280267)\n",
      "(7, 'tot_bwd_pkts', 'subflow_bwd_pkts', 1.0)\n",
      "(8, 'tot_bwd_pkts', 'subflow_bwd_byts', 0.9911248644182601)\n",
      "(9, 'totlen_fwd_pkts', 'subflow_fwd_byts', 1.0)\n",
      "(10, 'totlen_bwd_pkts', 'bwd_header_len', 0.9958505724430988)\n",
      "(11, 'totlen_bwd_pkts', 'subflow_bwd_pkts', 0.9911236966221492)\n",
      "(12, 'totlen_bwd_pkts', 'subflow_bwd_byts', 0.9999997040314977)\n",
      "(13, 'fwd_pkt_len_mean', 'fwd_seg_size_avg', 0.9999999999999999)\n",
      "(14, 'bwd_pkt_len_mean', 'bwd_seg_size_avg', 1.0)\n",
      "(15, 'flow_pkts/s', 'fwd_pkts/s', 0.9933025778450258)\n",
      "(16, 'flow_iat_mean', 'fwd_iat_mean', 0.9999794268195006)\n",
      "(17, 'flow_iat_std', 'fwd_iat_std', 0.9999890190092436)\n",
      "(18, 'flow_iat_max', 'fwd_iat_max', 0.9999966643936943)\n",
      "(19, 'flow_iat_min', 'fwd_iat_min', 0.9999971569863935)\n",
      "(20, 'fwd_psh_flags', 'syn_flag_cnt', 1.0)\n",
      "(21, 'fwd_urg_flags', 'cwe_flag_count', 1.0)\n",
      "(22, 'fwd_header_len', 'subflow_fwd_pkts', 0.9949998350357292)\n",
      "(23, 'fwd_header_len', 'fwd_act_data_pkts', 0.9911813509467085)\n",
      "(24, 'bwd_header_len', 'subflow_bwd_pkts', 0.9960393211280265)\n",
      "(25, 'bwd_header_len', 'subflow_bwd_byts', 0.9958536846998733)\n",
      "(26, 'pkt_len_mean', 'pkt_size_avg', 0.9950758756398996)\n",
      "(27, 'rst_flag_cnt', 'ece_flag_cnt', 0.9999927973582479)\n",
      "(28, 'subflow_fwd_pkts', 'fwd_act_data_pkts', 0.999322660066321)\n",
      "(29, 'subflow_bwd_pkts', 'subflow_bwd_byts', 0.9911248644182601)\n",
      "(30, 'idle_std', 'idle_max', 0.9924342701298948)\n"
     ]
    }
   ],
   "source": [
    "n=0\n",
    "for i in range(70):\n",
    "    for j in range(i, 70):\n",
    "        if i == j :\n",
    "            continue\n",
    "        if corr.iloc[i,j] > .99 :\n",
    "            n+=1\n",
    "            print((n, dataset.columns[i], dataset.columns[j], corr.iloc[i,j]))"
   ]
  },
  {
   "cell_type": "code",
   "execution_count": 21,
   "metadata": {},
   "outputs": [],
   "source": [
    "dataset = dataset.drop(['subflow_fwd_pkts','subflow_bwd_pkts','subflow_fwd_byts',\n",
    "                        'bwd_seg_size_avg','syn_flag_cnt','cwe_flag_count',\n",
    "                        'fwd_header_len','tot_fwd_pkts','tot_bwd_pkts',\n",
    "                        'totlen_bwd_pkts','fwd_pkt_len_mean','flow_pkts/s',\n",
    "                        'flow_iat_mean','flow_iat_std','flow_iat_max',\n",
    "                        'flow_iat_min','fwd_act_data_pkts','subflow_bwd_byts',\n",
    "                        'bwd_header_len','pkt_size_avg','rst_flag_cnt','idle_max'], axis=1)"
   ]
  },
  {
   "cell_type": "markdown",
   "metadata": {
    "jp-MarkdownHeadingCollapsed": true
   },
   "source": [
    "## scaling continuous features"
   ]
  },
  {
   "cell_type": "code",
   "execution_count": 22,
   "metadata": {},
   "outputs": [],
   "source": [
    "sparse_cols = [\"fwd_psh_flags\",\"fwd_urg_flags\",\"fin_flag_cnt\",\n",
    "               \"psh_flag_cnt\",\"ack_flag_cnt\",\"urg_flag_cnt\"]\n",
    "non_sparse_cols = dataset.drop(sparse_cols+['dst_port', 'protocol', 'label'], axis=1).columns"
   ]
  },
  {
   "cell_type": "code",
   "execution_count": 23,
   "metadata": {},
   "outputs": [],
   "source": [
    "dataset[non_sparse_cols] = minmax_scale(dataset[non_sparse_cols])"
   ]
  },
  {
   "cell_type": "code",
   "execution_count": 27,
   "metadata": {},
   "outputs": [],
   "source": [
    "float_cols = dataset.select_dtypes(include='float').columns\n",
    "dataset[float_cols] = dataset[float_cols].apply(pandas.to_numeric, errors='coerce', downcast='float')"
   ]
  },
  {
   "cell_type": "markdown",
   "metadata": {},
   "source": [
    "## encoding labels"
   ]
  },
  {
   "cell_type": "code",
   "execution_count": 29,
   "metadata": {},
   "outputs": [],
   "source": [
    "dataset['intrusion'] = (dataset['label'] == 'INTRUSION').astype(int)\n",
    "\n",
    "# Drop the original column if needed\n",
    "dataset = dataset.drop(columns=['label'])"
   ]
  },
  {
   "cell_type": "code",
   "execution_count": 16,
   "metadata": {},
   "outputs": [],
   "source": [
    "dataset = pandas.get_dummies(dataset, columns=['protocol'], dtype=numpy.int8)"
   ]
  },
  {
   "cell_type": "code",
   "execution_count": 17,
   "metadata": {},
   "outputs": [],
   "source": [
    "dataset['intrusion'] = dataset['intrusion'].astype('float32')"
   ]
  },
  {
   "cell_type": "markdown",
   "metadata": {},
   "source": [
    "## postprocessing"
   ]
  },
  {
   "cell_type": "code",
   "execution_count": 38,
   "metadata": {},
   "outputs": [],
   "source": [
    "trainset, testset = train_test_split(dataset,\n",
    "                                     test_size=.20,\n",
    "                                     shuffle=True,\n",
    "                                     stratify=dataset['intrusion'],\n",
    "                                     random_state=0)\n"
   ]
  },
  {
   "cell_type": "code",
   "execution_count": 39,
   "metadata": {},
   "outputs": [],
   "source": [
    "trainset.to_feather(path + \"train.feather\")\n",
    "testset.to_feather(path + \"test.feather\")"
   ]
  }
 ],
 "metadata": {
  "colab": {
   "provenance": []
  },
  "kernelspec": {
   "display_name": "Python 3 (ipykernel)",
   "language": "python",
   "name": "python3"
  },
  "language_info": {
   "codemirror_mode": {
    "name": "ipython",
    "version": 3
   },
   "file_extension": ".py",
   "mimetype": "text/x-python",
   "name": "python",
   "nbconvert_exporter": "python",
   "pygments_lexer": "ipython3",
   "version": "3.12.3"
  }
 },
 "nbformat": 4,
 "nbformat_minor": 4
}

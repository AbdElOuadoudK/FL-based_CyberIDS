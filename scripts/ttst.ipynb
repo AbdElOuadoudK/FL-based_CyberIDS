{
 "cells": [
  {
   "cell_type": "code",
   "execution_count": 1,
   "id": "ead44a0e-2a07-4e4a-8f4b-1e665432e62b",
   "metadata": {},
   "outputs": [
    {
     "name": "stderr",
     "output_type": "stream",
     "text": [
      "2024-10-07 12:19:26,226\tINFO util.py:154 -- Missing packages: ['ipywidgets']. Run `pip install -U ipywidgets`, then restart the notebook server for rich notebook output.\n",
      "\u001b[92mINFO \u001b[0m:      Starting Flower simulation, config: num_rounds=5, no round_timeout\n",
      "2024-10-07 12:19:54,258\tINFO worker.py:1786 -- Started a local Ray instance.\n",
      "\u001b[92mINFO \u001b[0m:      Flower VCE: Ray initialized with resources: {'CPU': 4.0, 'memory': 3447147726.0, 'node:127.0.0.1': 1.0, 'node:__internal_head__': 1.0, 'object_store_memory': 1723573862.0}\n",
      "\u001b[92mINFO \u001b[0m:      Optimize your simulation with Flower VCE: https://flower.ai/docs/framework/how-to-run-simulations.html\n",
      "\u001b[92mINFO \u001b[0m:      Flower VCE: Resources for each Virtual Client: {'num_cpus': 1, 'num_gpus': 0}\n",
      "\u001b[92mINFO \u001b[0m:      Flower VCE: Creating VirtualClientEngineActorPool with 4 actors\n",
      "\u001b[92mINFO \u001b[0m:      [INIT]\n",
      "\u001b[92mINFO \u001b[0m:      Using initial global parameters provided by strategy\n",
      "\u001b[92mINFO \u001b[0m:      Evaluating initial global parameters\n",
      "\u001b[92mINFO \u001b[0m:      initial parameters (loss, other metrics): 0.005895187377929687, {'Accuracy': 0.1354}\n",
      "\u001b[92mINFO \u001b[0m:      \n",
      "\u001b[92mINFO \u001b[0m:      [ROUND 1]\n",
      "\u001b[92mINFO \u001b[0m:      configure_fit: strategy sampled 2 clients (out of 2)\n"
     ]
    },
    {
     "name": "stdout",
     "output_type": "stream",
     "text": [
      "\n",
      "Initial state\n",
      "Test performance of global model: Loss: 5.895e-03 | Accuracy: 13.5400 %\n",
      "\u001b[36m(ClientAppActor pid=9900)\u001b[0m \n",
      "\u001b[36m(ClientAppActor pid=9900)\u001b[0m Round: 1\n",
      "\u001b[36m(ClientAppActor pid=9852)\u001b[0m \n",
      "\u001b[36m(ClientAppActor pid=9900)\u001b[0m Training >> Epoch: 1 | Loss: 1.523e-03 | Accuracy: 46.6348 %\n",
      "\u001b[36m(ClientAppActor pid=9852)\u001b[0m Round: 1\n",
      "\u001b[36m(ClientAppActor pid=9852)\u001b[0m Training >> Epoch: 1 | Loss: 1.525e-03 | Accuracy: 46.1874 %\n",
      "\u001b[36m(ClientAppActor pid=9900)\u001b[0m Training >> Epoch: 2 | Loss: 1.457e-03 | Accuracy: 50.3968 %\n",
      "\u001b[36m(ClientAppActor pid=9852)\u001b[0m Training >> Epoch: 2 | Loss: 1.454e-03 | Accuracy: 50.8520 %\n",
      "\u001b[36m(ClientAppActor pid=9852)\u001b[0m Training >> Epoch: 3 | Loss: 1.402e-03 | Accuracy: 54.6685 %\n",
      "\u001b[36m(ClientAppActor pid=9900)\u001b[0m Training >> Epoch: 3 | Loss: 1.405e-03 | Accuracy: 54.5596 %\n"
     ]
    },
    {
     "name": "stderr",
     "output_type": "stream",
     "text": [
      "\u001b[92mINFO \u001b[0m:      aggregate_fit: received 2 results and 0 failures\n"
     ]
    },
    {
     "name": "stdout",
     "output_type": "stream",
     "text": [
      "Train performance of local models (Averaged): Loss: 1.403e-03 | Accuracy: 54.6141 %\n"
     ]
    },
    {
     "name": "stderr",
     "output_type": "stream",
     "text": [
      "\u001b[92mINFO \u001b[0m:      fit progress: (1, 0.0001361232280731201, {'Accuracy': 0.7158}, 106.10452090000035)\n",
      "\u001b[92mINFO \u001b[0m:      configure_evaluate: strategy sampled 2 clients (out of 2)\n"
     ]
    },
    {
     "name": "stdout",
     "output_type": "stream",
     "text": [
      "\n",
      "Round: 1\n",
      "Test performance of global model: Loss: 1.361e-04 | Accuracy: 71.5800 %\n",
      "\u001b[36m(ClientAppActor pid=9852)\u001b[0m Validation >> Loss: 1.361e-03 | Accuracy: 71.5705 %\n"
     ]
    },
    {
     "name": "stderr",
     "output_type": "stream",
     "text": [
      "\u001b[92mINFO \u001b[0m:      aggregate_evaluate: received 2 results and 0 failures\n",
      "\u001b[92mINFO \u001b[0m:      \n",
      "\u001b[92mINFO \u001b[0m:      [ROUND 2]\n",
      "\u001b[92mINFO \u001b[0m:      configure_fit: strategy sampled 2 clients (out of 2)\n"
     ]
    },
    {
     "name": "stdout",
     "output_type": "stream",
     "text": [
      "Validation performance of local models (Averaged): Loss: 1.360e-03 | Accuracy: 71.7821 %\n",
      "\u001b[36m(ClientAppActor pid=9852)\u001b[0m \n",
      "\u001b[36m(ClientAppActor pid=9852)\u001b[0m Round: 2\n",
      "\u001b[36m(ClientAppActor pid=9900)\u001b[0m Validation >> Loss: 1.359e-03 | Accuracy: 71.9937 %\n",
      "\u001b[36m(ClientAppActor pid=9900)\u001b[0m \n",
      "\u001b[36m(ClientAppActor pid=9852)\u001b[0m Training >> Epoch: 1 | Loss: 1.356e-03 | Accuracy: 59.0103 %\n",
      "\u001b[36m(ClientAppActor pid=9900)\u001b[0m Training >> Epoch: 1 | Loss: 1.358e-03 | Accuracy: 59.1192 %\n",
      "\u001b[36m(ClientAppActor pid=9852)\u001b[0m Training >> Epoch: 2 | Loss: 1.305e-03 | Accuracy: 63.2742 %\n",
      "\u001b[36m(ClientAppActor pid=9900)\u001b[0m Round: 2\n",
      "\u001b[36m(ClientAppActor pid=9900)\u001b[0m Training >> Epoch: 2 | Loss: 1.307e-03 | Accuracy: 63.1692 %\n",
      "\u001b[36m(ClientAppActor pid=9852)\u001b[0m Training >> Epoch: 3 | Loss: 1.265e-03 | Accuracy: 67.3708 %\n"
     ]
    },
    {
     "name": "stderr",
     "output_type": "stream",
     "text": [
      "\u001b[92mINFO \u001b[0m:      aggregate_fit: received 2 results and 0 failures\n"
     ]
    },
    {
     "name": "stdout",
     "output_type": "stream",
     "text": [
      "\u001b[36m(ClientAppActor pid=9900)\u001b[0m Training >> Epoch: 3 | Loss: 1.269e-03 | Accuracy: 67.2502 %\n",
      "Train performance of local models (Averaged): Loss: 1.267e-03 | Accuracy: 67.3105 %\n"
     ]
    },
    {
     "name": "stderr",
     "output_type": "stream",
     "text": [
      "\u001b[92mINFO \u001b[0m:      fit progress: (2, 0.00012925119400024413, {'Accuracy': 0.8646}, 231.3019884999958)\n",
      "\u001b[92mINFO \u001b[0m:      configure_evaluate: strategy sampled 2 clients (out of 2)\n"
     ]
    },
    {
     "name": "stdout",
     "output_type": "stream",
     "text": [
      "\n",
      "Round: 2\n",
      "Test performance of global model: Loss: 1.293e-04 | Accuracy: 86.4600 %\n"
     ]
    },
    {
     "name": "stderr",
     "output_type": "stream",
     "text": [
      "\u001b[92mINFO \u001b[0m:      aggregate_evaluate: received 2 results and 0 failures\n"
     ]
    },
    {
     "name": "stdout",
     "output_type": "stream",
     "text": [
      "\u001b[36m(ClientAppActor pid=9900)\u001b[0m Validation >> Loss: 1.290e-03 | Accuracy: 87.1761 %\n"
     ]
    },
    {
     "name": "stderr",
     "output_type": "stream",
     "text": [
      "\u001b[92mINFO \u001b[0m:      \n",
      "\u001b[92mINFO \u001b[0m:      [ROUND 3]\n",
      "\u001b[92mINFO \u001b[0m:      configure_fit: strategy sampled 2 clients (out of 2)\n"
     ]
    },
    {
     "name": "stdout",
     "output_type": "stream",
     "text": [
      "Validation performance of local models (Averaged): Loss: 1.291e-03 | Accuracy: 87.0239 %\n",
      "\u001b[36m(ClientAppActor pid=9852)\u001b[0m \n",
      "\u001b[36m(ClientAppActor pid=9852)\u001b[0m Round: 3\n",
      "\u001b[36m(ClientAppActor pid=9852)\u001b[0m Validation >> Loss: 1.292e-03 | Accuracy: 86.8718 %\n",
      "\u001b[36m(ClientAppActor pid=9900)\u001b[0m \n",
      "\u001b[36m(ClientAppActor pid=9900)\u001b[0m Training >> Epoch: 1 | Loss: 1.230e-03 | Accuracy: 70.7789 %\n",
      "\u001b[36m(ClientAppActor pid=9852)\u001b[0m Training >> Epoch: 1 | Loss: 1.237e-03 | Accuracy: 70.2809 %\n",
      "\u001b[36m(ClientAppActor pid=9852)\u001b[0m Training >> Epoch: 2 | Loss: 1.203e-03 | Accuracy: 73.3621 %\n",
      "\u001b[36m(ClientAppActor pid=9900)\u001b[0m Round: 3\n",
      "\u001b[36m(ClientAppActor pid=9900)\u001b[0m Training >> Epoch: 2 | Loss: 1.199e-03 | Accuracy: 73.9262 %\n",
      "\u001b[36m(ClientAppActor pid=9852)\u001b[0m Training >> Epoch: 3 | Loss: 1.169e-03 | Accuracy: 76.7624 %\n"
     ]
    },
    {
     "name": "stderr",
     "output_type": "stream",
     "text": [
      "\u001b[92mINFO \u001b[0m:      aggregate_fit: received 2 results and 0 failures\n"
     ]
    },
    {
     "name": "stdout",
     "output_type": "stream",
     "text": [
      "\u001b[36m(ClientAppActor pid=9900)\u001b[0m Training >> Epoch: 3 | Loss: 1.168e-03 | Accuracy: 77.0308 %\n",
      "Train performance of local models (Averaged): Loss: 1.169e-03 | Accuracy: 76.8966 %\n"
     ]
    },
    {
     "name": "stderr",
     "output_type": "stream",
     "text": [
      "\u001b[92mINFO \u001b[0m:      fit progress: (3, 0.00012364776134490967, {'Accuracy': 0.8646}, 360.6599339999957)\n",
      "\u001b[92mINFO \u001b[0m:      configure_evaluate: strategy sampled 2 clients (out of 2)\n"
     ]
    },
    {
     "name": "stdout",
     "output_type": "stream",
     "text": [
      "\n",
      "Round: 3\n",
      "Test performance of global model: Loss: 1.236e-04 | Accuracy: 86.4600 %\n"
     ]
    },
    {
     "name": "stderr",
     "output_type": "stream",
     "text": [
      "\u001b[92mINFO \u001b[0m:      aggregate_evaluate: received 2 results and 0 failures\n"
     ]
    },
    {
     "name": "stdout",
     "output_type": "stream",
     "text": [
      "\u001b[36m(ClientAppActor pid=9852)\u001b[0m Validation >> Loss: 1.236e-03 | Accuracy: 86.7719 %\n"
     ]
    },
    {
     "name": "stderr",
     "output_type": "stream",
     "text": [
      "\u001b[92mINFO \u001b[0m:      \n",
      "\u001b[92mINFO \u001b[0m:      [ROUND 4]\n",
      "\u001b[92mINFO \u001b[0m:      configure_fit: strategy sampled 2 clients (out of 2)\n"
     ]
    },
    {
     "name": "stdout",
     "output_type": "stream",
     "text": [
      "Validation performance of local models (Averaged): Loss: 1.235e-03 | Accuracy: 86.8480 %\n",
      "\u001b[36m(ClientAppActor pid=9900)\u001b[0m \n",
      "\u001b[36m(ClientAppActor pid=9900)\u001b[0m Round: 4\n",
      "\u001b[36m(ClientAppActor pid=9900)\u001b[0m Validation >> Loss: 1.235e-03 | Accuracy: 86.9241 %\n",
      "\u001b[36m(ClientAppActor pid=9852)\u001b[0m \n",
      "\u001b[36m(ClientAppActor pid=9900)\u001b[0m Training >> Epoch: 1 | Loss: 1.143e-03 | Accuracy: 78.9955 %\n",
      "\u001b[36m(ClientAppActor pid=9852)\u001b[0m Training >> Epoch: 1 | Loss: 1.148e-03 | Accuracy: 78.8866 %\n",
      "\u001b[36m(ClientAppActor pid=9852)\u001b[0m Round: 4\n",
      "\u001b[36m(ClientAppActor pid=9900)\u001b[0m Training >> Epoch: 2 | Loss: 1.120e-03 | Accuracy: 81.0263 %\n",
      "\u001b[36m(ClientAppActor pid=9852)\u001b[0m Training >> Epoch: 2 | Loss: 1.121e-03 | Accuracy: 81.1041 %\n",
      "\u001b[36m(ClientAppActor pid=9900)\u001b[0m Training >> Epoch: 3 | Loss: 1.098e-03 | Accuracy: 82.6525 %\n"
     ]
    },
    {
     "name": "stderr",
     "output_type": "stream",
     "text": [
      "\u001b[92mINFO \u001b[0m:      aggregate_fit: received 2 results and 0 failures\n"
     ]
    },
    {
     "name": "stdout",
     "output_type": "stream",
     "text": [
      "\u001b[36m(ClientAppActor pid=9852)\u001b[0m Training >> Epoch: 3 | Loss: 1.097e-03 | Accuracy: 82.7537 %\n",
      "Train performance of local models (Averaged): Loss: 1.098e-03 | Accuracy: 82.7031 %\n"
     ]
    },
    {
     "name": "stderr",
     "output_type": "stream",
     "text": [
      "\u001b[92mINFO \u001b[0m:      fit progress: (4, 0.00011912671327590943, {'Accuracy': 0.8646}, 484.4592767000431)\n",
      "\u001b[92mINFO \u001b[0m:      configure_evaluate: strategy sampled 2 clients (out of 2)\n"
     ]
    },
    {
     "name": "stdout",
     "output_type": "stream",
     "text": [
      "\n",
      "Round: 4\n",
      "Test performance of global model: Loss: 1.191e-04 | Accuracy: 86.4600 %\n",
      "\u001b[36m(ClientAppActor pid=9852)\u001b[0m Validation >> Loss: 1.189e-03 | Accuracy: 87.0857 %\n"
     ]
    },
    {
     "name": "stderr",
     "output_type": "stream",
     "text": [
      "\u001b[92mINFO \u001b[0m:      aggregate_evaluate: received 2 results and 0 failures\n",
      "\u001b[92mINFO \u001b[0m:      \n",
      "\u001b[92mINFO \u001b[0m:      [ROUND 5]\n",
      "\u001b[92mINFO \u001b[0m:      configure_fit: strategy sampled 2 clients (out of 2)\n"
     ]
    },
    {
     "name": "stdout",
     "output_type": "stream",
     "text": [
      "Validation performance of local models (Averaged): Loss: 1.189e-03 | Accuracy: 86.9455 %\n",
      "\u001b[36m(ClientAppActor pid=9852)\u001b[0m \n",
      "\u001b[36m(ClientAppActor pid=9852)\u001b[0m Round: 5\n",
      "\u001b[36m(ClientAppActor pid=9900)\u001b[0m Validation >> Loss: 1.190e-03 | Accuracy: 86.8052 %\n",
      "\u001b[36m(ClientAppActor pid=9900)\u001b[0m \n",
      "\u001b[36m(ClientAppActor pid=9852)\u001b[0m Training >> Epoch: 1 | Loss: 1.082e-03 | Accuracy: 83.7185 %\n",
      "\u001b[36m(ClientAppActor pid=9900)\u001b[0m Training >> Epoch: 1 | Loss: 1.083e-03 | Accuracy: 83.7340 %\n",
      "\u001b[36m(ClientAppActor pid=9852)\u001b[0m Training >> Epoch: 2 | Loss: 1.057e-03 | Accuracy: 84.8039 %\n",
      "\u001b[36m(ClientAppActor pid=9900)\u001b[0m Round: 5\n",
      "\u001b[36m(ClientAppActor pid=9900)\u001b[0m Training >> Epoch: 2 | Loss: 1.063e-03 | Accuracy: 84.5510 %\n",
      "\u001b[36m(ClientAppActor pid=9852)\u001b[0m Training >> Epoch: 3 | Loss: 1.043e-03 | Accuracy: 85.3719 %\n"
     ]
    },
    {
     "name": "stderr",
     "output_type": "stream",
     "text": [
      "\u001b[92mINFO \u001b[0m:      aggregate_fit: received 2 results and 0 failures\n"
     ]
    },
    {
     "name": "stdout",
     "output_type": "stream",
     "text": [
      "\u001b[36m(ClientAppActor pid=9900)\u001b[0m Training >> Epoch: 3 | Loss: 1.047e-03 | Accuracy: 85.2435 %\n",
      "Train performance of local models (Averaged): Loss: 1.045e-03 | Accuracy: 85.3077 %\n"
     ]
    },
    {
     "name": "stderr",
     "output_type": "stream",
     "text": [
      "\u001b[92mINFO \u001b[0m:      fit progress: (5, 0.00011549808979034424, {'Accuracy': 0.8646}, 602.3506023000227)\n",
      "\u001b[92mINFO \u001b[0m:      configure_evaluate: strategy sampled 2 clients (out of 2)\n"
     ]
    },
    {
     "name": "stdout",
     "output_type": "stream",
     "text": [
      "\n",
      "Round: 5\n",
      "Test performance of global model: Loss: 1.155e-04 | Accuracy: 86.4600 %\n",
      "\u001b[36m(ClientAppActor pid=9852)\u001b[0m Validation >> Loss: 1.152e-03 | Accuracy: 86.9764 %\n"
     ]
    },
    {
     "name": "stderr",
     "output_type": "stream",
     "text": [
      "\u001b[92mINFO \u001b[0m:      aggregate_evaluate: received 2 results and 0 failures\n",
      "\u001b[92mINFO \u001b[0m:      \n",
      "\u001b[92mINFO \u001b[0m:      [SUMMARY]\n",
      "\u001b[92mINFO \u001b[0m:      Run finished 5 rounds in 663.01s\n",
      "\u001b[92mINFO \u001b[0m:      History (loss, distributed):\n",
      "\u001b[92mINFO \u001b[0m:      \t('\\tround 1: 0.0013598207796891356\\n'\n",
      "\u001b[92mINFO \u001b[0m:      \t '\\tround 2: 0.0012912854129274675\\n'\n",
      "\u001b[92mINFO \u001b[0m:      \t '\\tround 3: 0.0012353117328460783\\n'\n",
      "\u001b[92mINFO \u001b[0m:      \t '\\tround 4: 0.0011894881830174188\\n'\n",
      "\u001b[92mINFO \u001b[0m:      \t '\\tround 5: 0.0011530512551779322\\n')History (loss, centralized):\n",
      "\u001b[92mINFO \u001b[0m:      \t('\\tround 0: 0.005895187377929687\\n'\n",
      "\u001b[92mINFO \u001b[0m:      \t '\\tround 1: 0.0001361232280731201\\n'\n",
      "\u001b[92mINFO \u001b[0m:      \t '\\tround 2: 0.00012925119400024413\\n'\n",
      "\u001b[92mINFO \u001b[0m:      \t '\\tround 3: 0.00012364776134490967\\n'\n",
      "\u001b[92mINFO \u001b[0m:      \t '\\tround 4: 0.00011912671327590943\\n'\n",
      "\u001b[92mINFO \u001b[0m:      \t '\\tround 5: 0.00011549808979034424\\n')History (metrics, distributed, fit):\n",
      "\u001b[92mINFO \u001b[0m:      \t{'Accuracy': [(1, 0.5461406784936196),\n",
      "\u001b[92mINFO \u001b[0m:      \t              (2, 0.6731053532524122),\n",
      "\u001b[92mINFO \u001b[0m:      \t              (3, 0.7689659197012139),\n",
      "\u001b[92mINFO \u001b[0m:      \t              (4, 0.82703081232493),\n",
      "\u001b[92mINFO \u001b[0m:      \t              (5, 0.8530773420479303)],\n",
      "\u001b[92mINFO \u001b[0m:      \t 'F1': [(1, 0.1756457554847244),\n",
      "\u001b[92mINFO \u001b[0m:      \t        (2, 0.16004468556389712),\n",
      "\u001b[92mINFO \u001b[0m:      \t        (3, 0.12014944451900879),\n",
      "\u001b[92mINFO \u001b[0m:      \t        (4, 0.05303514376996805),\n",
      "\u001b[92mINFO \u001b[0m:      \t        (5, 0.01538571555201234)],\n",
      "\u001b[92mINFO \u001b[0m:      \t 'FPR': [(1, 0.4276075147496394),\n",
      "\u001b[92mINFO \u001b[0m:      \t         (2, 0.2631672215548824),\n"
     ]
    },
    {
     "name": "stdout",
     "output_type": "stream",
     "text": [
      "Validation performance of local models (Averaged): Loss: 1.153e-03 | Accuracy: 86.9074 %\n"
     ]
    },
    {
     "name": "stderr",
     "output_type": "stream",
     "text": [
      "\u001b[92mINFO \u001b[0m:      \t         (3, 0.13461245612450226),\n",
      "\u001b[92mINFO \u001b[0m:      \t         (4, 0.054323545730998554),\n",
      "\u001b[92mINFO \u001b[0m:      \t         (5, 0.020136051355979314)],\n",
      "\u001b[92mINFO \u001b[0m:      \t 'Loss': [(1, 0.0014033367097322125),\n",
      "\u001b[92mINFO \u001b[0m:      \t          (2, 0.0012670278066866053),\n",
      "\u001b[92mINFO \u001b[0m:      \t          (3, 0.001168644834290106),\n",
      "\u001b[92mINFO \u001b[0m:      \t          (4, 0.001097730627886944),\n",
      "\u001b[92mINFO \u001b[0m:      \t          (5, 0.0010448384217261674)],\n",
      "\u001b[92mINFO \u001b[0m:      \t 'Precision': [(1, 0.1150734425734806),\n",
      "\u001b[92mINFO \u001b[0m:      \t               (2, 0.11958587902864366),\n",
      "\u001b[92mINFO \u001b[0m:      \t               (3, 0.11867645326989743),\n",
      "\u001b[92mINFO \u001b[0m:      \t               (4, 0.09304470043973684),\n",
      "\u001b[92mINFO \u001b[0m:      \t               (5, 0.06137500543738309)],\n",
      "\u001b[92mINFO \u001b[0m:      \t 'Recall': [(1, 0.3709472921410773),\n",
      "\u001b[92mINFO \u001b[0m:      \t            (2, 0.24187900537434137),\n",
      "\u001b[92mINFO \u001b[0m:      \t            (3, 0.12168168613919994),\n",
      "\u001b[92mINFO \u001b[0m:      \t            (4, 0.03708806717819826),\n",
      "\u001b[92mINFO \u001b[0m:      \t            (5, 0.008795483835738555)]}History (metrics, distributed, evaluate):\n",
      "\u001b[92mINFO \u001b[0m:      \t{'Accuracy': [(1, 0.7178213113974609),\n",
      "\u001b[92mINFO \u001b[0m:      \t              (2, 0.8702391707479435),\n",
      "\u001b[92mINFO \u001b[0m:      \t              (3, 0.8684798630592935),\n",
      "\u001b[92mINFO \u001b[0m:      \t              (4, 0.8694546146165185),\n",
      "\u001b[92mINFO \u001b[0m:      \t              (5, 0.8690742237649184)],\n",
      "\u001b[92mINFO \u001b[0m:      \t 'F1': [(1, 0.17422222322051348), (2, 0.0), (3, 0.0), (4, 0.0), (5, 0.0)],\n",
      "\u001b[92mINFO \u001b[0m:      \t 'FPR': [(1, 0.2074218024568965), (2, 0.0), (3, 0.0), (4, 0.0), (5, 0.0)],\n",
      "\u001b[92mINFO \u001b[0m:      \t 'Loss': [(1, 0.0013598207796891356),\n",
      "\u001b[92mINFO \u001b[0m:      \t          (2, 0.0012912854129274675),\n",
      "\u001b[92mINFO \u001b[0m:      \t          (3, 0.0012353117328460783),\n",
      "\u001b[92mINFO \u001b[0m:      \t          (4, 0.0011894881830174188),\n",
      "\u001b[92mINFO \u001b[0m:      \t          (5, 0.0011530512551779322)],\n",
      "\u001b[92mINFO \u001b[0m:      \t 'Precision': [(1, 0.14186708379723018),\n",
      "\u001b[92mINFO \u001b[0m:      \t               (2, 0.0),\n",
      "\u001b[92mINFO \u001b[0m:      \t               (3, 0.0),\n",
      "\u001b[92mINFO \u001b[0m:      \t               (4, 0.0),\n",
      "\u001b[92mINFO \u001b[0m:      \t               (5, 0.0)],\n",
      "\u001b[92mINFO \u001b[0m:      \t 'Recall': [(1, 0.22570765570765566), (2, 0.0), (3, 0.0), (4, 0.0), (5, 0.0)]}History (metrics, centralized):\n",
      "\u001b[92mINFO \u001b[0m:      \t{'Accuracy': [(0, 0.1354),\n",
      "\u001b[92mINFO \u001b[0m:      \t              (1, 0.7158),\n",
      "\u001b[92mINFO \u001b[0m:      \t              (2, 0.8646),\n",
      "\u001b[92mINFO \u001b[0m:      \t              (3, 0.8646),\n",
      "\u001b[92mINFO \u001b[0m:      \t              (4, 0.8646),\n",
      "\u001b[92mINFO \u001b[0m:      \t              (5, 0.8646)]}\n",
      "\u001b[92mINFO \u001b[0m:      \n"
     ]
    },
    {
     "ename": "NameError",
     "evalue": "name 'client_function' is not defined",
     "output_type": "error",
     "traceback": [
      "\u001b[1;31m---------------------------------------------------------------------------\u001b[0m",
      "\u001b[1;31mNameError\u001b[0m                                 Traceback (most recent call last)",
      "Cell \u001b[1;32mIn[1], line 1\u001b[0m\n\u001b[1;32m----> 1\u001b[0m \u001b[38;5;28;01mfrom\u001b[39;00m \u001b[38;5;21;01mstart_simulation\u001b[39;00m \u001b[38;5;28;01mimport\u001b[39;00m run\n",
      "File \u001b[1;32m~\\Documents\\GitHub\\FL-based_CyberIDS\\scripts\\start_simulation.py:50\u001b[0m\n\u001b[0;32m     47\u001b[0m \u001b[38;5;28;01mif\u001b[39;00m \u001b[38;5;18m__name__\u001b[39m \u001b[38;5;241m==\u001b[39m \u001b[38;5;124m\"\u001b[39m\u001b[38;5;124mstart_simulation\u001b[39m\u001b[38;5;124m\"\u001b[39m :\n\u001b[0;32m     48\u001b[0m     run()\n\u001b[1;32m---> 50\u001b[0m simulation_configs \u001b[38;5;241m=\u001b[39m {\u001b[43mclient_function\u001b[49m, \n\u001b[0;32m     51\u001b[0m                       aggregation_strategy, \n\u001b[0;32m     52\u001b[0m                       server_config, \n\u001b[0;32m     53\u001b[0m                       client_resources, \n\u001b[0;32m     54\u001b[0m                       server_algorithm\n\u001b[0;32m     55\u001b[0m                      }\n\u001b[0;32m     57\u001b[0m log_configs(simulation_configs)\n",
      "\u001b[1;31mNameError\u001b[0m: name 'client_function' is not defined"
     ]
    }
   ],
   "source": [
    "from start_simulation import run"
   ]
  },
  {
   "cell_type": "code",
   "execution_count": null,
   "id": "0a635d85-a804-42a8-824f-3719ce62cf6d",
   "metadata": {},
   "outputs": [],
   "source": []
  }
 ],
 "metadata": {
  "kernelspec": {
   "display_name": "Python 3 (ipykernel)",
   "language": "python",
   "name": "python3"
  },
  "language_info": {
   "codemirror_mode": {
    "name": "ipython",
    "version": 3
   },
   "file_extension": ".py",
   "mimetype": "text/x-python",
   "name": "python",
   "nbconvert_exporter": "python",
   "pygments_lexer": "ipython3",
   "version": "3.12.3"
  }
 },
 "nbformat": 4,
 "nbformat_minor": 5
}

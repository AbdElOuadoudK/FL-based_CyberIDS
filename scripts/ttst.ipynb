{
 "cells": [
  {
   "cell_type": "code",
   "execution_count": null,
   "id": "ead44a0e-2a07-4e4a-8f4b-1e665432e62b",
   "metadata": {},
   "outputs": [
    {
     "name": "stderr",
     "output_type": "stream",
     "text": [
      "2024-10-06 19:37:27,014\tINFO util.py:154 -- Missing packages: ['ipywidgets']. Run `pip install -U ipywidgets`, then restart the notebook server for rich notebook output.\n",
      "\u001b[92mINFO \u001b[0m:      Starting Flower simulation, config: num_rounds=5, no round_timeout\n",
      "2024-10-06 19:37:56,284\tINFO worker.py:1786 -- Started a local Ray instance.\n",
      "\u001b[92mINFO \u001b[0m:      Flower VCE: Ray initialized with resources: {'CPU': 4.0, 'object_store_memory': 1681827840.0, 'node:127.0.0.1': 1.0, 'node:__internal_head__': 1.0, 'memory': 3363655680.0}\n",
      "\u001b[92mINFO \u001b[0m:      Optimize your simulation with Flower VCE: https://flower.ai/docs/framework/how-to-run-simulations.html\n",
      "\u001b[92mINFO \u001b[0m:      Flower VCE: Resources for each Virtual Client: {'num_cpus': 1, 'num_gpus': 0}\n",
      "\u001b[92mINFO \u001b[0m:      Flower VCE: Creating VirtualClientEngineActorPool with 4 actors\n",
      "\u001b[92mINFO \u001b[0m:      [INIT]\n",
      "\u001b[92mINFO \u001b[0m:      Using initial global parameters provided by strategy\n",
      "\u001b[92mINFO \u001b[0m:      Evaluating initial global parameters\n",
      "\u001b[92mINFO \u001b[0m:      initial parameters (loss, other metrics): 0.00031383171081542967, {'Accuracy': 0.8648}\n",
      "\u001b[92mINFO \u001b[0m:      \n",
      "\u001b[92mINFO \u001b[0m:      [ROUND 1]\n",
      "\u001b[92mINFO \u001b[0m:      configure_fit: strategy sampled 2 clients (out of 2)\n"
     ]
    },
    {
     "name": "stdout",
     "output_type": "stream",
     "text": [
      "\n",
      "Initial state\n",
      "Test performance of global model: Loss: 3.138e-04 | Accuracy: 86.4800 %\n",
      "\u001b[36m(ClientAppActor pid=6376)\u001b[0m \n",
      "\u001b[36m(ClientAppActor pid=6376)\u001b[0m Round: 1\n",
      "\u001b[36m(ClientAppActor pid=11332)\u001b[0m \n",
      "\u001b[36m(ClientAppActor pid=11332)\u001b[0m Training >> Epoch: 1 | Loss: 1.267e-03 | Accuracy: 47.6074 %\n",
      "\u001b[36m(ClientAppActor pid=11332)\u001b[0m Round: 1\n",
      "\u001b[36m(ClientAppActor pid=6376)\u001b[0m Training >> Epoch: 1 | Loss: 1.272e-03 | Accuracy: 45.9073 %\n",
      "\u001b[36m(ClientAppActor pid=11332)\u001b[0m Training >> Epoch: 2 | Loss: 1.246e-03 | Accuracy: 51.5795 %\n",
      "\u001b[36m(ClientAppActor pid=6376)\u001b[0m Training >> Epoch: 2 | Loss: 1.252e-03 | Accuracy: 48.2960 %\n"
     ]
    },
    {
     "name": "stderr",
     "output_type": "stream",
     "text": [
      "\u001b[92mINFO \u001b[0m:      aggregate_fit: received 2 results and 0 failures\n"
     ]
    },
    {
     "name": "stdout",
     "output_type": "stream",
     "text": [
      "\u001b[36m(ClientAppActor pid=11332)\u001b[0m Training >> Epoch: 3 | Loss: 1.218e-03 | Accuracy: 55.8551 %\n",
      "\u001b[36m(ClientAppActor pid=6376)\u001b[0m Training >> Epoch: 3 | Loss: 1.227e-03 | Accuracy: 52.0969 %\n",
      "Train performance of local models (Averaged): Loss: 1.222e-03 | Accuracy: 53.9760 %\n"
     ]
    },
    {
     "name": "stderr",
     "output_type": "stream",
     "text": [
      "\u001b[92mINFO \u001b[0m:      fit progress: (1, 0.0001278503656387329, {'Accuracy': 0.4012}, 121.4830229000072)\n",
      "\u001b[92mINFO \u001b[0m:      configure_evaluate: strategy sampled 2 clients (out of 2)\n"
     ]
    },
    {
     "name": "stdout",
     "output_type": "stream",
     "text": [
      "\n",
      "Round: 1\n",
      "Test performance of global model: Loss: 1.279e-04 | Accuracy: 40.1200 %\n"
     ]
    },
    {
     "name": "stderr",
     "output_type": "stream",
     "text": [
      "\u001b[92mINFO \u001b[0m:      aggregate_evaluate: received 2 results and 0 failures\n"
     ]
    },
    {
     "name": "stdout",
     "output_type": "stream",
     "text": [
      "\u001b[36m(ClientAppActor pid=11332)\u001b[0m Validation >> Loss: 1.283e-03 | Accuracy: 39.6367 %\n"
     ]
    },
    {
     "name": "stderr",
     "output_type": "stream",
     "text": [
      "\u001b[92mINFO \u001b[0m:      \n",
      "\u001b[92mINFO \u001b[0m:      [ROUND 2]\n",
      "\u001b[92mINFO \u001b[0m:      configure_fit: strategy sampled 2 clients (out of 2)\n"
     ]
    },
    {
     "name": "stdout",
     "output_type": "stream",
     "text": [
      "Validation performance of local models (Averaged): Loss: 1.285e-03 | Accuracy: 39.2730 %\n",
      "\u001b[36m(ClientAppActor pid=6376)\u001b[0m \n",
      "\u001b[36m(ClientAppActor pid=6376)\u001b[0m Round: 2\n",
      "\u001b[36m(ClientAppActor pid=6376)\u001b[0m Validation >> Loss: 1.287e-03 | Accuracy: 38.9092 %\n",
      "\u001b[36m(ClientAppActor pid=11332)\u001b[0m \n",
      "\u001b[36m(ClientAppActor pid=6376)\u001b[0m Training >> Epoch: 1 | Loss: 1.209e-03 | Accuracy: 55.8240 %\n",
      "\u001b[36m(ClientAppActor pid=11332)\u001b[0m Training >> Epoch: 1 | Loss: 1.210e-03 | Accuracy: 55.7812 %\n",
      "\u001b[36m(ClientAppActor pid=11332)\u001b[0m Round: 2\n",
      "\u001b[36m(ClientAppActor pid=6376)\u001b[0m Training >> Epoch: 2 | Loss: 1.184e-03 | Accuracy: 60.7571 %\n",
      "\u001b[36m(ClientAppActor pid=11332)\u001b[0m Training >> Epoch: 2 | Loss: 1.188e-03 | Accuracy: 60.3875 %\n",
      "\u001b[36m(ClientAppActor pid=6376)\u001b[0m Training >> Epoch: 3 | Loss: 1.164e-03 | Accuracy: 65.2933 %\n"
     ]
    },
    {
     "name": "stderr",
     "output_type": "stream",
     "text": [
      "\u001b[92mINFO \u001b[0m:      aggregate_fit: received 2 results and 0 failures\n"
     ]
    },
    {
     "name": "stdout",
     "output_type": "stream",
     "text": [
      "\u001b[36m(ClientAppActor pid=11332)\u001b[0m Training >> Epoch: 3 | Loss: 1.164e-03 | Accuracy: 64.9199 %\n",
      "Train performance of local models (Averaged): Loss: 1.164e-03 | Accuracy: 65.1066 %\n"
     ]
    },
    {
     "name": "stderr",
     "output_type": "stream",
     "text": [
      "\u001b[92mINFO \u001b[0m:      fit progress: (2, 0.00012429403066635132, {'Accuracy': 0.4022}, 252.0487623999943)\n",
      "\u001b[92mINFO \u001b[0m:      configure_evaluate: strategy sampled 2 clients (out of 2)\n"
     ]
    },
    {
     "name": "stdout",
     "output_type": "stream",
     "text": [
      "\n",
      "Round: 2\n",
      "Test performance of global model: Loss: 1.243e-04 | Accuracy: 40.2200 %\n",
      "\u001b[36m(ClientAppActor pid=6376)\u001b[0m Validation >> Loss: 1.243e-03 | Accuracy: 39.8459 %\n"
     ]
    },
    {
     "name": "stderr",
     "output_type": "stream",
     "text": [
      "\u001b[92mINFO \u001b[0m:      aggregate_evaluate: received 2 results and 0 failures\n",
      "\u001b[92mINFO \u001b[0m:      \n",
      "\u001b[92mINFO \u001b[0m:      [ROUND 3]\n",
      "\u001b[92mINFO \u001b[0m:      configure_fit: strategy sampled 2 clients (out of 2)\n"
     ]
    },
    {
     "name": "stdout",
     "output_type": "stream",
     "text": [
      "Validation performance of local models (Averaged): Loss: 1.245e-03 | Accuracy: 39.5321 %\n",
      "\u001b[36m(ClientAppActor pid=11332)\u001b[0m Validation >> Loss: 1.248e-03 | Accuracy: 39.2183 %\n"
     ]
    }
   ],
   "source": [
    "from start_simulation import run"
   ]
  },
  {
   "cell_type": "code",
   "execution_count": null,
   "id": "0a635d85-a804-42a8-824f-3719ce62cf6d",
   "metadata": {},
   "outputs": [],
   "source": []
  }
 ],
 "metadata": {
  "kernelspec": {
   "display_name": "Python 3 (ipykernel)",
   "language": "python",
   "name": "python3"
  },
  "language_info": {
   "codemirror_mode": {
    "name": "ipython",
    "version": 3
   },
   "file_extension": ".py",
   "mimetype": "text/x-python",
   "name": "python",
   "nbconvert_exporter": "python",
   "pygments_lexer": "ipython3",
   "version": "3.12.3"
  }
 },
 "nbformat": 4,
 "nbformat_minor": 5
}
